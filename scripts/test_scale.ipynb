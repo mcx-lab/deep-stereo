{
 "cells": [
  {
   "cell_type": "code",
   "execution_count": 1,
   "metadata": {},
   "outputs": [
    {
     "name": "stdout",
     "output_type": "stream",
     "text": [
      "Jupyter environment detected. Enabling Open3D WebVisualizer.\n",
      "[Open3D INFO] WebRTC GUI backend enabled.\n",
      "[Open3D INFO] WebRTCWindowSystem: HTTP handshake server disabled.\n"
     ]
    },
    {
     "name": "stderr",
     "output_type": "stream",
     "text": [
      "INFO - 2024-10-16 02:50:17,935 - topics - topicmanager initialized\n"
     ]
    }
   ],
   "source": [
    "import os\n",
    "import cv2\n",
    "import open3d as o3d\n",
    "import torch\n",
    "import json\n",
    "import yaml\n",
    "import numpy as np\n",
    "import rosbag\n",
    "import matplotlib.pyplot as plt\n",
    "import data_conversion\n",
    "import depth_anything_interface\n",
    "import pcd_utils"
   ]
  },
  {
   "cell_type": "code",
   "execution_count": 2,
   "metadata": {},
   "outputs": [
    {
     "name": "stderr",
     "output_type": "stream",
     "text": [
      "WARNING - 2024-10-16 02:50:18,655 - attention - xFormers not available\n",
      "WARNING - 2024-10-16 02:50:18,656 - block - xFormers not available\n",
      "INFO - 2024-10-16 02:50:18,683 - dinov2 - using MLP layer as FFN\n",
      "/deep_stereo_ws/src/scripts/depth_anything_interface.py:40: FutureWarning: You are using `torch.load` with `weights_only=False` (the current default value), which uses the default pickle module implicitly. It is possible to construct malicious pickle data which will execute arbitrary code during unpickling (See https://github.com/pytorch/pytorch/blob/main/SECURITY.md#untrusted-models for more details). In a future release, the default value for `weights_only` will be flipped to `True`. This limits the functions that could be executed during unpickling. Arbitrary objects will no longer be allowed to be loaded via this mode unless they are explicitly allowlisted by the user via `torch.serialization.add_safe_globals`. We recommend you start setting `weights_only=True` for any use case where you don't have full control of the loaded file. Please open an issue on GitHub for any issues related to this experimental feature.\n",
      "  model.load_state_dict(torch.load(MODEL_PATH))\n"
     ]
    }
   ],
   "source": [
    "FRAME_INDEX = 0\n",
    "GAP_INDEX = 10\n",
    "MODEL_PATH = \"/scratchdata/depth_anything_v2_metric_hypersim_vitl.pth\"\n",
    "model = depth_anything_interface.get_model(\"cuda\", MODEL_PATH, model_type = \"metric\", encoder='vitl')\n",
    "\n",
    "config = yaml.load(open(\"../config/gemini2L.yaml\", \"r\"), Loader=yaml.FullLoader)\n",
    "\n",
    "# Open bag file\n",
    "bag_file_path = \"/scratchdata/indoor_short.bag\"\n",
    "bag = rosbag.Bag(bag_file_path)"
   ]
  },
  {
   "cell_type": "code",
   "execution_count": 3,
   "metadata": {},
   "outputs": [
    {
     "name": "stdout",
     "output_type": "stream",
     "text": [
      "306.4570007324219 306.4668884277344 319.01312255859375 197.51637268066406\n"
     ]
    }
   ],
   "source": [
    "wait = 0\n",
    "for topic, msg, t in bag.read_messages(topics=[\"/camera/color/camera_info\"]):\n",
    "    D = msg.D\n",
    "    K = msg.K\n",
    "    R = msg.R\n",
    "    P = msg.P\n",
    "    break\n",
    "\n",
    "fx = P[0]\n",
    "fy = P[5]\n",
    "cx = P[2]\n",
    "cy = P[6]\n",
    "\n",
    "print(fx, fy, cx, cy)"
   ]
  },
  {
   "cell_type": "code",
   "execution_count": 4,
   "metadata": {},
   "outputs": [],
   "source": [
    "cnt = 0 \n",
    "for topic, msg, t in bag.read_messages(topics=[\"/camera/color/image_raw\"]):\n",
    "    if cnt ==  FRAME_INDEX:\n",
    "        prev_img = data_conversion.topic_to_image(msg)\n",
    "    if cnt == GAP_INDEX + FRAME_INDEX:\n",
    "        new_img = data_conversion.topic_to_image(msg)\n",
    "        break\n",
    "    cnt+=1\n",
    "\n",
    "cnt = 0 \n",
    "for topic, msg, t in bag.read_messages(topics=[\"/camera/depth/image_raw\"]):\n",
    "    if cnt ==  FRAME_INDEX:\n",
    "        prev_depth = data_conversion.topic_to_depth(msg, config[\"depth_anything_config\"])\n",
    "    if cnt == GAP_INDEX + FRAME_INDEX:\n",
    "        new_depth = data_conversion.topic_to_depth(msg, config[\"depth_anything_config\"])\n",
    "        break\n",
    "    cnt+=1\n"
   ]
  },
  {
   "cell_type": "code",
   "execution_count": 5,
   "metadata": {},
   "outputs": [],
   "source": [
    "prev_est_depth = prev_depth\n",
    "new_est_depth = new_depth * 0.9\n",
    "\n",
    "#prev_est_depth = model.infer_image(prev_img)\n",
    "#new_est_depth = model.infer_image(new_img)"
   ]
  },
  {
   "cell_type": "code",
   "execution_count": 6,
   "metadata": {},
   "outputs": [
    {
     "name": "stdout",
     "output_type": "stream",
     "text": [
      "(62933, 3) (62933, 3)\n"
     ]
    }
   ],
   "source": [
    "gray_prev = cv2.cvtColor(prev_img, cv2.COLOR_BGR2GRAY)\n",
    "gray_new = cv2.cvtColor(new_img, cv2.COLOR_BGR2GRAY)\n",
    "\n",
    "flow = cv2.calcOpticalFlowFarneback(gray_prev, gray_new, None, 0.5, 3, 15, 3, 5, 1.2, 0)\n",
    "\n",
    "prev_point = np.indices((prev_img.shape[0], prev_img.shape[1]))\n",
    "prev_point = np.moveaxis(prev_point, 0, -1)\n",
    "\n",
    "new_point = prev_point + flow\n",
    "\n",
    "mask = np.linalg.norm(flow, axis=2) > 20 # Match based on nearer objects, these should be more accurate?\n",
    "prev_point = prev_point[mask==1]\n",
    "new_point = new_point[mask==1]\n",
    "\n",
    "mask = new_point[:, 1] < new_img.shape[0] - 1 \n",
    "prev_point = prev_point[mask]\n",
    "new_point = new_point[mask]\n",
    "\n",
    "mask = prev_point[:, 1] < new_img.shape[0] - 1\n",
    "prev_point = prev_point[mask]\n",
    "new_point = new_point[mask]\n",
    "\n",
    "mask = new_point[:, 0] < new_img.shape[1] - 1 \n",
    "prev_point = prev_point[mask]\n",
    "new_point = new_point[mask]\n",
    "\n",
    "mask = prev_point[:, 0] < new_img.shape[1] - 1\n",
    "prev_point = prev_point[mask]\n",
    "new_point = new_point[mask]\n",
    "\n",
    "matching_depth1 = data_conversion.interpolate_depth(prev_est_depth, prev_point)\n",
    "matching_depth2 = data_conversion.interpolate_depth(new_est_depth, new_point)\n",
    "\n",
    "coord1 = np.zeros((len(matching_depth1), 3), dtype=np.float32)\n",
    "\n",
    "coord1[:, 0] = (prev_point[:,0] - cx) * matching_depth1/ fx\n",
    "coord1[:, 1] = (prev_point[:,1] - cy) * matching_depth1/ fy\n",
    "coord1[:, 2] = matching_depth1\n",
    "\n",
    "coord2 = np.zeros((len(matching_depth2), 3), dtype=np.float32)\n",
    "\n",
    "coord2[:, 0] = (new_point[:,0] - cx) * matching_depth2/ fx\n",
    "coord2[:, 1] = (new_point[:,1] - cy) * matching_depth2/ fy\n",
    "coord2[:, 2] = matching_depth2\n",
    "\n",
    "print(coord1.shape, coord2.shape)"
   ]
  },
  {
   "cell_type": "code",
   "execution_count": 7,
   "metadata": {},
   "outputs": [
    {
     "name": "stderr",
     "output_type": "stream",
     "text": [
      "/deep_stereo_ws/src/scripts/pcd_utils.py:78: RuntimeWarning: invalid value encountered in scalar divide\n",
      "  scale = np.einsum('ij,ij->', sample1, sample2) / np.einsum('ij,ij->', sample2, sample2)\n"
     ]
    },
    {
     "name": "stdout",
     "output_type": "stream",
     "text": [
      "Inliers Ratio: 0.4553890645607233\n"
     ]
    }
   ],
   "source": [
    "EPISON = 0.1\n",
    "RANSAC_ITERATIONS = 5000\n",
    "\n",
    "best_tf = pcd_utils.pcd_matching_tf(coord1, coord2, EPISON, RANSAC_ITERATIONS, ransac_sample=10, verbose=True)"
   ]
  },
  {
   "cell_type": "code",
   "execution_count": 8,
   "metadata": {},
   "outputs": [
    {
     "data": {
      "text/plain": [
       "PointCloud with 10465 points."
      ]
     },
     "execution_count": 8,
     "metadata": {},
     "output_type": "execute_result"
    }
   ],
   "source": [
    "prev_coord = data_conversion.depth_to_pcd(prev_est_depth,P) \n",
    "#prev_coord = prev_coord - mean_ori\n",
    "#prev_coord = prev_coord / scale_ori\n",
    "\n",
    "prev_coord = np.concatenate([prev_coord, np.ones((prev_coord.shape[0], 1))], axis=1)\n",
    "\n",
    "prev_pcd = o3d.geometry.PointCloud()\n",
    "prev_pcd.points = o3d.utility.Vector3dVector(prev_coord[:,:3]/prev_coord[:,3][:,None])\n",
    "prev_pcd.colors = o3d.utility.Vector3dVector(prev_img.reshape(-1,3)/255.0)\n",
    "\n",
    "#prev_pcd = prev_pcd.uniform_down_sample(every_k_points=4)\n",
    "prev_pcd.voxel_down_sample(0.1)\n",
    "\n",
    "\n",
    "new_coord = data_conversion.depth_to_pcd(new_est_depth,P)\n",
    "#new_coord = new_coord - mean_new\n",
    "#new_coord = new_coord / scale_new\n",
    "\n",
    "new_coord = np.concatenate([new_coord, np.ones((new_coord.shape[0], 1))], axis=1)\n",
    "new_coord = new_coord @ best_tf.T\n",
    "\n",
    "new_pcd = o3d.geometry.PointCloud()\n",
    "new_pcd.points = o3d.utility.Vector3dVector(new_coord[:,:3]/new_coord[:,3][:,None])\n",
    "new_pcd.colors = o3d.utility.Vector3dVector(new_img.reshape(-1,3)/255.0)\n",
    "\n",
    "#new_pcd = new_pcd.uniform_down_sample(every_k_points=4)\n",
    "new_pcd.voxel_down_sample(0.1)"
   ]
  },
  {
   "cell_type": "code",
   "execution_count": 9,
   "metadata": {},
   "outputs": [],
   "source": [
    "o3d.visualization.draw_geometries([prev_pcd, new_pcd])"
   ]
  },
  {
   "cell_type": "code",
   "execution_count": 10,
   "metadata": {},
   "outputs": [
    {
     "name": "stdout",
     "output_type": "stream",
     "text": [
      "3. Colored point cloud registration\n",
      "[50, 0.04, 0]\n",
      "3-1. Downsample with a voxel size 0.04\n",
      "3-2. Estimate normal.\n",
      "3-3. Applying colored point cloud registration\n",
      "RegistrationResult with fitness=6.181432e-01, inlier_rmse=2.302353e-02, and correspondence_set size of 21253\n",
      "Access transformation to get result.\n",
      "[30, 0.02, 1]\n",
      "3-1. Downsample with a voxel size 0.02\n",
      "3-2. Estimate normal.\n",
      "3-3. Applying colored point cloud registration\n",
      "RegistrationResult with fitness=4.602560e-01, inlier_rmse=1.252084e-02, and correspondence_set size of 35060\n",
      "Access transformation to get result.\n",
      "[14, 0.01, 2]\n",
      "3-1. Downsample with a voxel size 0.01\n",
      "3-2. Estimate normal.\n",
      "3-3. Applying colored point cloud registration\n",
      "RegistrationResult with fitness=2.946023e-01, inlier_rmse=6.742622e-03, and correspondence_set size of 38478\n",
      "Access transformation to get result.\n"
     ]
    }
   ],
   "source": [
    "voxel_radius = [0.04, 0.02, 0.01]\n",
    "max_iter = [50, 30, 14]\n",
    "current_transformation = np.identity(4)\n",
    "print(\"3. Colored point cloud registration\")\n",
    "for scale in range(3):\n",
    "    iter = max_iter[scale]\n",
    "    radius = voxel_radius[scale]\n",
    "    print([iter, radius, scale])\n",
    "\n",
    "    print(\"3-1. Downsample with a voxel size %.2f\" % radius)\n",
    "    source_down = prev_pcd.voxel_down_sample(radius)\n",
    "    target_down = new_pcd.voxel_down_sample(radius)\n",
    "\n",
    "    print(\"3-2. Estimate normal.\")\n",
    "    source_down.estimate_normals(\n",
    "        o3d.geometry.KDTreeSearchParamHybrid(radius=radius * 2, max_nn=30))\n",
    "    target_down.estimate_normals(\n",
    "        o3d.geometry.KDTreeSearchParamHybrid(radius=radius * 2, max_nn=30))\n",
    "\n",
    "    print(\"3-3. Applying colored point cloud registration\")\n",
    "    result_icp = o3d.pipelines.registration.registration_colored_icp(\n",
    "        source_down, target_down, radius, current_transformation,\n",
    "        o3d.pipelines.registration.TransformationEstimationForColoredICP(),\n",
    "        o3d.pipelines.registration.ICPConvergenceCriteria(relative_fitness=1e-6,\n",
    "                                                          relative_rmse=1e-6,\n",
    "                                                          max_iteration=iter))\n",
    "    current_transformation = result_icp.transformation\n",
    "    print(result_icp)\n",
    "\n",
    "o3d.visualization.draw_geometries([prev_pcd, new_pcd])"
   ]
  }
 ],
 "metadata": {
  "kernelspec": {
   "display_name": "Python 3",
   "language": "python",
   "name": "python3"
  },
  "language_info": {
   "codemirror_mode": {
    "name": "ipython",
    "version": 3
   },
   "file_extension": ".py",
   "mimetype": "text/x-python",
   "name": "python",
   "nbconvert_exporter": "python",
   "pygments_lexer": "ipython3",
   "version": "3.8.10"
  }
 },
 "nbformat": 4,
 "nbformat_minor": 2
}
