{
 "cells": [
  {
   "cell_type": "code",
   "execution_count": 1,
   "metadata": {},
   "outputs": [
    {
     "name": "stdout",
     "output_type": "stream",
     "text": [
      "Jupyter environment detected. Enabling Open3D WebVisualizer.\n",
      "[Open3D INFO] WebRTC GUI backend enabled.\n",
      "[Open3D INFO] WebRTCWindowSystem: HTTP handshake server disabled.\n"
     ]
    },
    {
     "name": "stderr",
     "output_type": "stream",
     "text": [
      "INFO - 2024-10-14 05:28:45,404 - topics - topicmanager initialized\n"
     ]
    }
   ],
   "source": [
    "import os\n",
    "import cv2\n",
    "import open3d as o3d\n",
    "import torch\n",
    "import json\n",
    "import numpy as np\n",
    "import rosbag\n",
    "import matplotlib.pyplot as plt\n",
    "import data_conversion\n",
    "import depth_anything_interface\n",
    "import pcd_utils"
   ]
  },
  {
   "cell_type": "code",
   "execution_count": 2,
   "metadata": {},
   "outputs": [
    {
     "data": {
      "text/plain": [
       "0"
      ]
     },
     "execution_count": 2,
     "metadata": {},
     "output_type": "execute_result"
    }
   ],
   "source": [
    "#If directory exists, erase it\n",
    "\n",
    "if os.path.exists('../pcd'):\n",
    "    os.system('rm -r ../pcd')\n",
    "\n",
    "#Create directory\n",
    "    \n",
    "os.system('mkdir ../pcd')"
   ]
  },
  {
   "cell_type": "code",
   "execution_count": 3,
   "metadata": {},
   "outputs": [
    {
     "name": "stderr",
     "output_type": "stream",
     "text": [
      "WARNING - 2024-10-14 05:28:46,023 - attention - xFormers not available\n",
      "WARNING - 2024-10-14 05:28:46,025 - block - xFormers not available\n",
      "INFO - 2024-10-14 05:28:46,047 - dinov2 - using MLP layer as FFN\n",
      "/deep_stereo_ws/src/scripts/depth_anything_interface.py:40: FutureWarning: You are using `torch.load` with `weights_only=False` (the current default value), which uses the default pickle module implicitly. It is possible to construct malicious pickle data which will execute arbitrary code during unpickling (See https://github.com/pytorch/pytorch/blob/main/SECURITY.md#untrusted-models for more details). In a future release, the default value for `weights_only` will be flipped to `True`. This limits the functions that could be executed during unpickling. Arbitrary objects will no longer be allowed to be loaded via this mode unless they are explicitly allowlisted by the user via `torch.serialization.add_safe_globals`. We recommend you start setting `weights_only=True` for any use case where you don't have full control of the loaded file. Please open an issue on GitHub for any issues related to this experimental feature.\n",
      "  model.load_state_dict(torch.load(MODEL_PATH))\n"
     ]
    }
   ],
   "source": [
    "FRAME_INDEX = 0\n",
    "GAP_INDEX = 10\n",
    "MODEL_PATH = \"/scratchdata/depth_anything_v2_metric_hypersim_vitl.pth\"\n",
    "model = depth_anything_interface.get_model(\"cuda\", MODEL_PATH, model_type = \"metric\", encoder='vitl')\n",
    "\n",
    "RATIO_THRESHOLD = 0.25\n",
    "\n",
    "# Open bag file\n",
    "bag_file_path = \"/scratchdata/indoor_short.bag\"\n",
    "bag = rosbag.Bag(bag_file_path)"
   ]
  },
  {
   "cell_type": "code",
   "execution_count": 4,
   "metadata": {},
   "outputs": [
    {
     "name": "stdout",
     "output_type": "stream",
     "text": [
      "306.4570007324219 306.4668884277344 319.01312255859375 197.51637268066406\n"
     ]
    }
   ],
   "source": [
    "wait = 0\n",
    "for topic, msg, t in bag.read_messages(topics=[\"/camera/color/camera_info\"]):\n",
    "    D = msg.D\n",
    "    K = msg.K\n",
    "    R = msg.R\n",
    "    P = msg.P\n",
    "    break\n",
    "\n",
    "fx = P[0]\n",
    "fy = P[5]\n",
    "cx = P[2]\n",
    "cy = P[6]\n",
    "\n",
    "print(fx, fy, cx, cy)"
   ]
  },
  {
   "cell_type": "code",
   "execution_count": 5,
   "metadata": {},
   "outputs": [],
   "source": [
    "prev_img = None\n",
    "prev_est_depth = None\n",
    "for topic, msg, t in bag.read_messages(topics=[\"/camera/color/image_raw\"]):\n",
    "    prev_img = data_conversion.topic_to_image(msg)\n",
    "    prev_est_depth = model.infer_image(prev_img)\n",
    "\n",
    "    coord = data_conversion.depth_to_pcd(prev_est_depth,P)\n",
    "    coord = np.concatenate([coord, np.ones((coord.shape[0], 1))], axis=1)\n",
    "    pcd_utils.ply_from_1x4_coord(coord, \"../pcd/0.ply\", color = prev_img.reshape(-1,3)/255)\n",
    "\n",
    "    break"
   ]
  },
  {
   "cell_type": "code",
   "execution_count": 6,
   "metadata": {},
   "outputs": [
    {
     "name": "stdout",
     "output_type": "stream",
     "text": [
      "Inliers Ratio: 0.2022564638286759\n",
      "[[ 0.9963754  -0.05478258 -0.06507613  0.00129181]\n",
      " [ 0.05124861  0.99718199 -0.05478707  0.08841872]\n",
      " [ 0.06789414  0.05125341  0.99637515 -0.01112904]\n",
      " [ 0.          0.          0.          1.01017592]]\n"
     ]
    }
   ],
   "source": [
    "cnt = 0\n",
    "nxt_frame_index = GAP_INDEX \n",
    "tf = np.eye(4)\n",
    "\n",
    "for topic, msg, t in bag.read_messages(topics=[\"/camera/color/image_raw\"]):\n",
    "    if nxt_frame_index == cnt:\n",
    "        new_img = data_conversion.topic_to_image(msg)\n",
    "        new_est_depth = model.infer_image(new_img)\n",
    "\n",
    "        gray_prev = cv2.cvtColor(prev_img, cv2.COLOR_BGR2GRAY)\n",
    "        gray_new = cv2.cvtColor(new_img, cv2.COLOR_BGR2GRAY)\n",
    "\n",
    "        flow = cv2.calcOpticalFlowFarneback(gray_prev, gray_new, None, 0.5, 3, 15, 3, 5, 1.2, 0)\n",
    "\n",
    "        prev_point = np.indices((prev_img.shape[0], prev_img.shape[1]))\n",
    "        prev_point = np.moveaxis(prev_point, 0, -1)\n",
    "\n",
    "        new_point = prev_point + flow\n",
    "\n",
    "        mask = np.linalg.norm(flow, axis=2) > 4 # Match based on nearer objects, these should be more accurate?\n",
    "        prev_point = prev_point[mask==1]\n",
    "        new_point = new_point[mask==1]\n",
    "\n",
    "        mask = new_point[:, 1] < new_img.shape[0] - 1 \n",
    "        prev_point = prev_point[mask]\n",
    "        new_point = new_point[mask]\n",
    "\n",
    "        mask = prev_point[:, 1] < new_img.shape[0] - 1\n",
    "        prev_point = prev_point[mask]\n",
    "        new_point = new_point[mask]\n",
    "\n",
    "        mask = new_point[:, 0] < new_img.shape[1] - 1 \n",
    "        prev_point = prev_point[mask]\n",
    "        new_point = new_point[mask]\n",
    "\n",
    "        mask = prev_point[:, 0] < new_img.shape[1] - 1\n",
    "        prev_point = prev_point[mask]\n",
    "        new_point = new_point[mask]\n",
    "\n",
    "        matching_depth1 = data_conversion.interpolate_depth(prev_est_depth, prev_point)\n",
    "        matching_depth2 = data_conversion.interpolate_depth(new_est_depth, new_point)\n",
    "\n",
    "        coord1 = np.zeros((len(matching_depth1), 3), dtype=np.float32)\n",
    "\n",
    "        coord1[:, 0] = (prev_point[:,0] - cx) * matching_depth1/ fx\n",
    "        coord1[:, 1] = (prev_point[:,1] - cy) * matching_depth1/ fy\n",
    "        coord1[:, 2] = matching_depth1\n",
    "\n",
    "        coord2 = np.zeros((len(matching_depth2), 3), dtype=np.float32)\n",
    "\n",
    "        coord2[:, 0] = (new_point[:,0] - cx) * matching_depth2/ fx\n",
    "        coord2[:, 1] = (new_point[:,1] - cy) * matching_depth2/ fy\n",
    "        coord2[:, 2] = matching_depth2\n",
    "        \n",
    "        EPSILON = 0.02\n",
    "        RANSAC_TRIALS = 10000\n",
    "        new_tf = pcd_utils.pcd_matching_tf(coord1, coord2, EPSILON, RANSAC_TRIALS, verbose=True)\n",
    "\n",
    "        tf = new_tf @ tf\n",
    "\n",
    "        print(tf)\n",
    "\n",
    "        coord = data_conversion.depth_to_pcd(new_est_depth,P)\n",
    "        coord = np.concatenate([coord, np.ones((coord.shape[0], 1))], axis=1)\n",
    "        coord = coord @ tf.T\n",
    "\n",
    "        pcd_utils.ply_from_1x4_coord(coord, f\"../pcd/{nxt_frame_index}.ply\", color = prev_img.reshape(-1,3)/255)\n",
    "\n",
    "        nxt_frame_index += GAP_INDEX\n",
    "        prev_img = new_img\n",
    "        prev_est_depth = new_est_depth\n",
    "        break\n",
    "    cnt += 1"
   ]
  }
 ],
 "metadata": {
  "kernelspec": {
   "display_name": "Python 3",
   "language": "python",
   "name": "python3"
  },
  "language_info": {
   "codemirror_mode": {
    "name": "ipython",
    "version": 3
   },
   "file_extension": ".py",
   "mimetype": "text/x-python",
   "name": "python",
   "nbconvert_exporter": "python",
   "pygments_lexer": "ipython3",
   "version": "3.8.10"
  }
 },
 "nbformat": 4,
 "nbformat_minor": 2
}
