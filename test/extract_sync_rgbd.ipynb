{
 "cells": [
  {
   "cell_type": "code",
   "execution_count": 2,
   "metadata": {},
   "outputs": [],
   "source": [
    "import os\n",
    "os.chdir(\"../scripts/\")"
   ]
  },
  {
   "cell_type": "code",
   "execution_count": 3,
   "metadata": {},
   "outputs": [],
   "source": [
    "import cv2\n",
    "import numpy as np\n",
    "import rosbag\n",
    "import yaml\n",
    "import data_conversion"
   ]
  },
  {
   "cell_type": "code",
   "execution_count": 4,
   "metadata": {},
   "outputs": [],
   "source": [
    "DATA_PATH = \"/scratchdata/processed/indoor_short\"\n",
    "\n",
    "# Open bag file\n",
    "bag_file_path = \"/scratchdata/indoor_short.bag\"\n",
    "bag = rosbag.Bag(bag_file_path)\n",
    "\n",
    "config = yaml.load(open(\"../config/gemini2L.yaml\", \"r\"), Loader=yaml.FullLoader)"
   ]
  },
  {
   "cell_type": "code",
   "execution_count": 5,
   "metadata": {},
   "outputs": [
    {
     "data": {
      "text/plain": [
       "0"
      ]
     },
     "execution_count": 5,
     "metadata": {},
     "output_type": "execute_result"
    }
   ],
   "source": [
    "if os.path.exists(DATA_PATH):\n",
    "    os.system('rm -r {}'.format(DATA_PATH))\n",
    "    \n",
    "os.system('mkdir {}'.format(DATA_PATH))\n",
    "os.system('mkdir {}'.format(DATA_PATH+'/rgb'))\n",
    "os.system('mkdir {}'.format(DATA_PATH+'/depth'))\n"
   ]
  },
  {
   "cell_type": "code",
   "execution_count": 6,
   "metadata": {},
   "outputs": [],
   "source": [
    "rgb = []\n",
    "\n",
    "for topic, msg, t in bag.read_messages(topics=[\"/camera/color/image_raw\"]):\n",
    "    rgb.append(msg)\n",
    "    prev_img = data_conversion.topic_to_image(msg)\n",
    "\n",
    "depth = []\n",
    "\n",
    "for topic, msg, t in bag.read_messages(topics=[\"/camera/depth/image_raw\"]):\n",
    "    depth.append(msg)\n"
   ]
  },
  {
   "cell_type": "code",
   "execution_count": 8,
   "metadata": {},
   "outputs": [],
   "source": [
    "pt = 0\n",
    "diff = 1e-5 # 0.1 ms\n",
    "\n",
    "cnt = 0\n",
    "\n",
    "for i in range(len(rgb)):\n",
    "    rgb_msg, rgb_t = rgb[i], rgb[i].header.stamp\n",
    "    depth_msg, depth_t = depth[pt], depth[pt].header.stamp\n",
    "    \n",
    "    while depth_t.nsecs - rgb_t.nsecs < diff * 1e9 and pt < len(depth):\n",
    "        depth_msg, depth_t = depth[pt], depth[pt].header.stamp\n",
    "\n",
    "        if abs(rgb_t.nsecs - depth_t.nsecs) < diff:\n",
    "            pt += 1\n",
    "            break\n",
    "            \n",
    "        pt += 1\n",
    "\n",
    "    rgb_path = DATA_PATH + '/rgb/' + str(cnt) + '.png'\n",
    "    depth_path = DATA_PATH + '/depth/' + str(cnt) + '.png'\n",
    "\n",
    "    rgb_img = data_conversion.topic_to_image(rgb_msg)\n",
    "    rgb_img = cv2.cvtColor(rgb_img, cv2.COLOR_BGR2RGB)\n",
    "    depth_img = data_conversion.topic_to_depth(depth_msg,config[\"depth_anything_config\"])\n",
    "\n",
    "    cv2.imwrite(rgb_path, rgb_img)\n",
    "    cv2.imwrite(depth_path, depth_img)\n",
    "    \n",
    "    #with open(rgb_path, 'wb') as f:\n",
    "    #    f.write(rgb_msg.data)\n",
    "    \n",
    "    #with open(depth_path, 'wb') as f:\n",
    "    #    f.write(depth_msg.data)\n",
    "    \n",
    "    cnt += 1    \n"
   ]
  }
 ],
 "metadata": {
  "kernelspec": {
   "display_name": "Python 3",
   "language": "python",
   "name": "python3"
  },
  "language_info": {
   "codemirror_mode": {
    "name": "ipython",
    "version": 3
   },
   "file_extension": ".py",
   "mimetype": "text/x-python",
   "name": "python",
   "nbconvert_exporter": "python",
   "pygments_lexer": "ipython3",
   "version": "3.8.10"
  }
 },
 "nbformat": 4,
 "nbformat_minor": 2
}
